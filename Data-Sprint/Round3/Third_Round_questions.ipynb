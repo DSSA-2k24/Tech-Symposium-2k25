{
  "nbformat": 4,
  "nbformat_minor": 0,
  "metadata": {
    "colab": {
      "provenance": []
    },
    "kernelspec": {
      "name": "python3",
      "display_name": "Python 3"
    },
    "language_info": {
      "name": "python"
    }
  },
  "cells": [
    {
      "cell_type": "code",
      "source": [
        "import numpy as np\n",
        "import pandas as pd\n",
        "import matplotlib.pyplot as plt\n",
        "import seaborn as sns"
      ],
      "metadata": {
        "id": "MI5_7tPhfkZl"
      },
      "execution_count": null,
      "outputs": []
    },
    {
      "cell_type": "markdown",
      "source": [
        "# **Q.1) Read the dataset.**\n",
        "(Hint : Reading a dataset)"
      ],
      "metadata": {
        "id": "XF6DSvpjYLbJ"
      }
    },
    {
      "cell_type": "code",
      "source": [
        "df = pd.read_csv(\"data.csv\")"
      ],
      "metadata": {
        "id": "rjjQB7zqYPZj"
      },
      "execution_count": null,
      "outputs": []
    },
    {
      "cell_type": "markdown",
      "source": [
        "# **Q.2)Display First Five Rows**"
      ],
      "metadata": {
        "id": "yssMM_1uYQAT"
      }
    },
    {
      "cell_type": "code",
      "source": [],
      "metadata": {
        "id": "5eiEx26_Yojg"
      },
      "execution_count": null,
      "outputs": []
    },
    {
      "cell_type": "markdown",
      "source": [
        "# **Q.3)How has the average salary in USD changed over the years (2021-2023)?**\n",
        "hint:linechart"
      ],
      "metadata": {
        "id": "76MuoXjxYo-u"
      }
    },
    {
      "cell_type": "code",
      "source": [],
      "metadata": {
        "id": "8viL8y8KZNiA"
      },
      "execution_count": null,
      "outputs": []
    },
    {
      "cell_type": "markdown",
      "source": [
        "## **Q.4)How does salary vary by employment type (full-time, part-time, etc.)?**\n",
        "Hint : Barchart"
      ],
      "metadata": {
        "id": "cpVpLim_ZOCZ"
      }
    },
    {
      "cell_type": "code",
      "source": [],
      "metadata": {
        "id": "ow5jYftKZePN"
      },
      "execution_count": null,
      "outputs": []
    },
    {
      "cell_type": "markdown",
      "source": [
        "# **Q.5)What are the top 10 highest-paying job titles in data science?'**\n",
        "Hint:Barchart"
      ],
      "metadata": {
        "id": "5Gs5sbAqZkf_"
      }
    },
    {
      "cell_type": "code",
      "source": [],
      "metadata": {
        "id": "btFMnTVNZtZW"
      },
      "execution_count": null,
      "outputs": []
    },
    {
      "cell_type": "markdown",
      "source": [
        "# **Q.6) How many job postings are there for each experience level?**\n",
        " Hint : PieChart"
      ],
      "metadata": {
        "id": "6CYXZ1iIZt3X"
      }
    },
    {
      "cell_type": "code",
      "source": [],
      "metadata": {
        "id": "qlPi2gMeaFnz"
      },
      "execution_count": null,
      "outputs": []
    },
    {
      "cell_type": "markdown",
      "source": [
        "# **Q.7)What is the average salary per job title?**\n",
        "hint:BarChart"
      ],
      "metadata": {
        "id": "fufQLdjuaF2M"
      }
    },
    {
      "cell_type": "code",
      "source": [],
      "metadata": {
        "id": "MKs_coWtdeWq"
      },
      "execution_count": null,
      "outputs": []
    },
    {
      "cell_type": "markdown",
      "source": [
        "# **Q.8)How does salary correlate with work experience level?**\n",
        "Hint:ScatterPlot"
      ],
      "metadata": {
        "id": "QAoB4IibderE"
      }
    },
    {
      "cell_type": "code",
      "source": [],
      "metadata": {
        "id": "IndJW7LCdusv"
      },
      "execution_count": null,
      "outputs": []
    },
    {
      "cell_type": "markdown",
      "source": [
        "# **Q.9)What is the proportion of job postings by company size?**\n",
        "Hint: PieChart"
      ],
      "metadata": {
        "id": "MAGUV7IQdvBo"
      }
    },
    {
      "cell_type": "code",
      "source": [],
      "metadata": {
        "id": "FyDGb8MMd85y"
      },
      "execution_count": null,
      "outputs": []
    },
    {
      "cell_type": "markdown",
      "source": [
        "# **Q.10)How does salary distribution vary across different experience levels?**\n",
        "Hint:BoxPlot"
      ],
      "metadata": {
        "id": "NKDOxAJBd9Lb"
      }
    },
    {
      "cell_type": "code",
      "source": [],
      "metadata": {
        "id": "FjOzrA2CeMwk"
      },
      "execution_count": null,
      "outputs": []
    },
    {
      "cell_type": "markdown",
      "source": [
        "# **Q.11)What is the salary trend for different experience levels over time?**\n",
        "Hint:LineChart"
      ],
      "metadata": {
        "id": "cVOxULV5eNat"
      }
    },
    {
      "cell_type": "code",
      "source": [],
      "metadata": {
        "id": "zYPCYdbteboi"
      },
      "execution_count": null,
      "outputs": []
    },
    {
      "cell_type": "markdown",
      "source": [
        "# **Q.12)What is the correlation between salary and experience level?**\n",
        "Hint:Heatmap(.corr())"
      ],
      "metadata": {
        "id": "3H_KSIB_eb5U"
      }
    },
    {
      "cell_type": "code",
      "source": [],
      "metadata": {
        "id": "2OgQCQSEesRm"
      },
      "execution_count": null,
      "outputs": []
    }
  ]
}
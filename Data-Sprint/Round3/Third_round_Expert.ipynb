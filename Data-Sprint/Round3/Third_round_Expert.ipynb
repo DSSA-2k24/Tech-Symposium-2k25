{
  "nbformat": 4,
  "nbformat_minor": 0,
  "metadata": {
    "colab": {
      "provenance": []
    },
    "kernelspec": {
      "name": "python3",
      "display_name": "Python 3"
    },
    "language_info": {
      "name": "python"
    }
  },
  "cells": [
    {
      "cell_type": "code",
      "execution_count": 1,
      "metadata": {
        "id": "TDiN9-OFf999"
      },
      "outputs": [],
      "source": [
        "import pandas as pd\n",
        "import seaborn as sns\n",
        "import plotly.express as px\n",
        "import matplotlib.pyplot as plt"
      ]
    },
    {
      "cell_type": "markdown",
      "source": [
        "# ** Q1) Read the dataset.**\n",
        "\n",
        "Hint: Use pandas to load the CSV file."
      ],
      "metadata": {
        "id": "gV1-PNpbgOFJ"
      }
    },
    {
      "cell_type": "code",
      "source": [
        "df = pd.read_csv(\"data.csv\")"
      ],
      "metadata": {
        "id": "HitNxGhugPXg"
      },
      "execution_count": 2,
      "outputs": []
    },
    {
      "cell_type": "markdown",
      "source": [
        "# **Q2) Display the first five rows.**\n",
        "\n",
        "Hint: Use .head() function to preview the dataset."
      ],
      "metadata": {
        "id": "g_DHdmFcgPiy"
      }
    },
    {
      "cell_type": "code",
      "source": [],
      "metadata": {
        "id": "C_BoGhRogU1u"
      },
      "execution_count": null,
      "outputs": []
    },
    {
      "cell_type": "markdown",
      "source": [
        "# ** Q3) How has the average salary in USD changed over the years (2021-2023)?**\n",
        "\n",
        "Hint: Use a Line Chart (sns.lineplot() or plotly.express.line())."
      ],
      "metadata": {
        "id": "Xvx0sjTWgU8Z"
      }
    },
    {
      "cell_type": "code",
      "source": [],
      "metadata": {
        "id": "bNtxZ9hPgZRK"
      },
      "execution_count": null,
      "outputs": []
    },
    {
      "cell_type": "markdown",
      "source": [
        "# ** Q4) How does salary vary by employment type (full-time, part-time, etc.)?**\n",
        "\n",
        "Hint: Use a Bar Chart (sns.barplot() or plotly.express.bar())."
      ],
      "metadata": {
        "id": "V1edW4HCgZfl"
      }
    },
    {
      "cell_type": "code",
      "source": [],
      "metadata": {
        "id": "4jiektUwgcyP"
      },
      "execution_count": null,
      "outputs": []
    },
    {
      "cell_type": "markdown",
      "source": [
        "# ** Q5) What are the top 10 highest-paying job titles in data science?**\n",
        "\n",
        "Hint: Use a Bar Chart (sns.barplot() or plotly.express.bar())."
      ],
      "metadata": {
        "id": "vFG6ZdsWgc53"
      }
    },
    {
      "cell_type": "code",
      "source": [],
      "metadata": {
        "id": "mTaiPnI_gfv4"
      },
      "execution_count": null,
      "outputs": []
    },
    {
      "cell_type": "markdown",
      "source": [
        "# **Q6) How many job postings are there for each experience level?**\n",
        "\n",
        "Hint: Use a Pie Chart (sns.countplot() or plotly.express.pie())."
      ],
      "metadata": {
        "id": "pLNn2Ubzgf1P"
      }
    },
    {
      "cell_type": "code",
      "source": [],
      "metadata": {
        "id": "xCFSgCuTgi_q"
      },
      "execution_count": null,
      "outputs": []
    },
    {
      "cell_type": "markdown",
      "source": [
        "# ** Q7) What is the average salary per job title?**\n",
        "\n",
        "Hint: Use a Bar Chart (sns.barplot() or plotly.express.bar())."
      ],
      "metadata": {
        "id": "ciMb7n6RgjIC"
      }
    },
    {
      "cell_type": "code",
      "source": [],
      "metadata": {
        "id": "WRYqY9Xhgmpv"
      },
      "execution_count": null,
      "outputs": []
    },
    {
      "cell_type": "markdown",
      "source": [
        "# **Q8) How does salary correlate with work experience level?**\n",
        "\n",
        "Hint: Use a Scatter Plot (sns.scatterplot() or plotly.express.scatter())."
      ],
      "metadata": {
        "id": "DT8Imi1jgmv-"
      }
    },
    {
      "cell_type": "code",
      "source": [],
      "metadata": {
        "id": "b367YuWygqNi"
      },
      "execution_count": null,
      "outputs": []
    },
    {
      "cell_type": "markdown",
      "source": [
        "# **Q9) What is the proportion of job postings by company size?**\n",
        "\n",
        "Hint: Use a Pie Chart (sns.countplot() or plotly.express.pie())."
      ],
      "metadata": {
        "id": "M2QLPMohgqTs"
      }
    },
    {
      "cell_type": "code",
      "source": [],
      "metadata": {
        "id": "F9J094pEguiz"
      },
      "execution_count": null,
      "outputs": []
    },
    {
      "cell_type": "markdown",
      "source": [
        "# ** Q10) How does salary distribution vary across different experience levels?**\n",
        "\n",
        "Hint: Use a Box Plot (sns.boxplot() or plotly.express.box())."
      ],
      "metadata": {
        "id": "ibyeccutgupC"
      }
    },
    {
      "cell_type": "code",
      "source": [],
      "metadata": {
        "id": "4iRO-Nx0gye0"
      },
      "execution_count": null,
      "outputs": []
    },
    {
      "cell_type": "markdown",
      "source": [
        "# ** Q11) What is the salary trend for different experience levels over time?**\n",
        "\n",
        "Hint: Use a Line Chart (sns.lineplot() or plotly.express.line())."
      ],
      "metadata": {
        "id": "1DvAmUkhgy41"
      }
    },
    {
      "cell_type": "code",
      "source": [],
      "metadata": {
        "id": "_9LNx-5jg1yu"
      },
      "execution_count": null,
      "outputs": []
    },
    {
      "cell_type": "markdown",
      "source": [
        "# **Q12) What is the correlation between salary and experience level?**\n",
        "\n",
        "Hint: Use a Heatmap (sns.heatmap() or plotly.express.imshow())."
      ],
      "metadata": {
        "id": "DRT_3d_Mg15h"
      }
    },
    {
      "cell_type": "code",
      "source": [],
      "metadata": {
        "id": "Cah4DxDLg5ys"
      },
      "execution_count": null,
      "outputs": []
    }
  ]
}